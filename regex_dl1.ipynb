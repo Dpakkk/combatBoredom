{
 "cells": [
  {
   "cell_type": "markdown",
   "id": "59c242cb",
   "metadata": {},
   "source": []
  },
  {
   "attachments": {},
   "cell_type": "markdown",
   "id": "8b7fdc40",
   "metadata": {},
   "source": []
  },
  {
   "cell_type": "code",
   "execution_count": 24,
   "id": "1888408e",
   "metadata": {},
   "outputs": [],
   "source": [
    "text = \"\"\"For nearly a decade, Meta has spent billions of dollars building new kinds of A.I. Mark Zuckerberg, the chief executive, made it a mission for Meta to become a leader in the field back in 2013. The company hired hundreds of top A.I. researchers, including Dr. LeCun. \n",
    "It spent hundreds of millions of dollars on the large amounts of computing power needed to build A.I. systems. Yet Meta has been left out now that Silicon Valley is gripped with excitement by “generative A.I.,” the name for technologies that generate text, images and other media on their own. OpenAI has taken center stage, even though Meta and many other companies have built similar technologies.\n",
    "\"\"\""
   ]
  },
  {
   "cell_type": "code",
   "execution_count": 25,
   "id": "627641c8",
   "metadata": {
    "scrolled": true
   },
   "outputs": [
    {
     "name": "stdout",
     "output_type": "stream",
     "text": [
      "For nearly a decade, Meta has spent billions of dollars building new kinds of A.I. Mark Zuckerberg, the chief executive, made it a mission for Meta to become a leader in the field back in 2013. The company hired hundreds of top A.I. researchers, including Dr. LeCun. \n",
      "It spent hundreds of millions of dollars on the large amounts of computing power needed to build A.I. systems. Yet Meta has been left out now that Silicon Valley is gripped with excitement by “generative A.I.,” the name for technologies that generate text, images and other media on their own. OpenAI has taken center stage, even though Meta and many other companies have built similar technologies.\n",
      "\n"
     ]
    }
   ],
   "source": [
    "print(text)"
   ]
  },
  {
   "cell_type": "markdown",
   "id": "b8dafb96",
   "metadata": {},
   "source": [
    "b) Create a vocabulary from tokens and count their occurrences. Sort the word types by the frequency."
   ]
  },
  {
   "cell_type": "code",
   "execution_count": 26,
   "id": "f7e7962e",
   "metadata": {},
   "outputs": [
    {
     "name": "stdout",
     "output_type": "stream",
     "text": [
      "values before sorted \n",
      "\n",
      "{'For': 1, 'nearly': 1, 'a': 3, 'decade,': 1, 'Meta': 4, 'has': 3, 'spent': 2, 'billions': 1, 'of': 6, 'dollars': 2, 'building': 1, 'new': 1, 'kinds': 1, 'A.I.': 3, 'Mark': 1, 'Zuckerberg,': 1, 'the': 4, 'chief': 1, 'executive,': 1, 'made': 1, 'it': 1, 'mission': 1, 'for': 2, 'to': 2, 'become': 1, 'leader': 1, 'in': 2, 'field': 1, 'back': 1, '2013.': 1, 'The': 1, 'company': 1, 'hired': 1, 'hundreds': 2, 'top': 1, 'researchers,': 1, 'including': 1, 'Dr.': 1, 'LeCun.': 1, 'It': 1, 'millions': 1, 'on': 2, 'large': 1, 'amounts': 1, 'computing': 1, 'power': 1, 'needed': 1, 'build': 1, 'systems.': 1, 'Yet': 1, 'been': 1, 'left': 1, 'out': 1, 'now': 1, 'that': 2, 'Silicon': 1, 'Valley': 1, 'is': 1, 'gripped': 1, 'with': 1, 'excitement': 1, 'by': 1, '“generative': 1, 'A.I.,”': 1, 'name': 1, 'technologies': 1, 'generate': 1, 'text,': 1, 'images': 1, 'and': 2, 'other': 2, 'media': 1, 'their': 1, 'own.': 1, 'OpenAI': 1, 'taken': 1, 'center': 1, 'stage,': 1, 'even': 1, 'though': 1, 'many': 1, 'companies': 1, 'have': 1, 'built': 1, 'similar': 1, 'technologies.': 1}\n",
      " \n",
      "values after sorted \n",
      "\n",
      "[('For', 1), ('nearly', 1), ('decade,', 1), ('billions', 1), ('building', 1), ('new', 1), ('kinds', 1), ('Mark', 1), ('Zuckerberg,', 1), ('chief', 1), ('executive,', 1), ('made', 1), ('it', 1), ('mission', 1), ('become', 1), ('leader', 1), ('field', 1), ('back', 1), ('2013.', 1), ('The', 1), ('company', 1), ('hired', 1), ('top', 1), ('researchers,', 1), ('including', 1), ('Dr.', 1), ('LeCun.', 1), ('It', 1), ('millions', 1), ('large', 1), ('amounts', 1), ('computing', 1), ('power', 1), ('needed', 1), ('build', 1), ('systems.', 1), ('Yet', 1), ('been', 1), ('left', 1), ('out', 1), ('now', 1), ('Silicon', 1), ('Valley', 1), ('is', 1), ('gripped', 1), ('with', 1), ('excitement', 1), ('by', 1), ('“generative', 1), ('A.I.,”', 1), ('name', 1), ('technologies', 1), ('generate', 1), ('text,', 1), ('images', 1), ('media', 1), ('their', 1), ('own.', 1), ('OpenAI', 1), ('taken', 1), ('center', 1), ('stage,', 1), ('even', 1), ('though', 1), ('many', 1), ('companies', 1), ('have', 1), ('built', 1), ('similar', 1), ('technologies.', 1), ('spent', 2), ('dollars', 2), ('for', 2), ('to', 2), ('in', 2), ('hundreds', 2), ('on', 2), ('that', 2), ('and', 2), ('other', 2), ('a', 3), ('has', 3), ('A.I.', 3), ('Meta', 4), ('the', 4), ('of', 6)]\n"
     ]
    }
   ],
   "source": [
    "def word_count(str):\n",
    "    counts = dict()\n",
    "    words = str.split()\n",
    "    for word in words:\n",
    "        if word in counts:\n",
    "            counts[word] += 1\n",
    "        else:\n",
    "            counts[word] = 1\n",
    "\n",
    "    return counts\n",
    "print('values before sorted \\n')    \n",
    "count_df = word_count(text)\n",
    "print(count_df)\n",
    "print(' ')\n",
    "print('values after sorted \\n')\n",
    "# sort by alphabet keys\n",
    "#sortedDict = dict( sorted(count_df.items(), key=lambda x: x[0].lower()) )\n",
    "# sort by value\n",
    "sortedDict = sorted(count_df.items(), key=lambda x:x[1])\n",
    "print(sortedDict)"
   ]
  },
  {
   "cell_type": "markdown",
   "id": "cb928a5d",
   "metadata": {},
   "source": [
    "#### Q2\n",
    "Consider the following excerpt from New York University Data Science Club website. "
   ]
  },
  {
   "cell_type": "code",
   "execution_count": 27,
   "id": "98821f27",
   "metadata": {},
   "outputs": [],
   "source": [
    "student_groups = \"\"\"\n",
    "The CDS Graduate Student Community-Building Group works on improving the sense of community for CDS graduate students through events and initiatives. If you have any suggestions for the group or want to get involved, please email cdsgraduatecommunity@nyu.edu. \n",
    "\n",
    "2022-2023 Members\n",
    "\n",
    "Sarvesh Patki (President)\n",
    "Khevna Parikh (Vice President)\n",
    "Pooja Aryamane  (Co-Director of Events)\n",
    "Aryan Jain (Co-Director of Events)\n",
    "Abhilash Anand (Co-Director of Events)\n",
    "Komal Sharma (Co-Director of Marketing & Engagement)\n",
    "Ridhika Agrawal (Co-Director of Marketing & Engagement)\n",
    "Shaojun Jiang\n",
    "Adeet Patel\n",
    "Nikki Gharachorloo\n",
    "\"\"\""
   ]
  },
  {
   "cell_type": "code",
   "execution_count": 28,
   "id": "31ff8685",
   "metadata": {},
   "outputs": [
    {
     "name": "stdout",
     "output_type": "stream",
     "text": [
      "\n",
      "The CDS Graduate Student Community-Building Group works on improving the sense of community for CDS graduate students through events and initiatives. If you have any suggestions for the group or want to get involved, please email cdsgraduatecommunity@nyu.edu. \n",
      "\n",
      "2022-2023 Members\n",
      "\n",
      "Sarvesh Patki (President)\n",
      "Khevna Parikh (Vice President)\n",
      "Pooja Aryamane  (Co-Director of Events)\n",
      "Aryan Jain (Co-Director of Events)\n",
      "Abhilash Anand (Co-Director of Events)\n",
      "Komal Sharma (Co-Director of Marketing & Engagement)\n",
      "Ridhika Agrawal (Co-Director of Marketing & Engagement)\n",
      "Shaojun Jiang\n",
      "Adeet Patel\n",
      "Nikki Gharachorloo\n",
      "\n"
     ]
    }
   ],
   "source": [
    "print(student_groups)"
   ]
  },
  {
   "cell_type": "markdown",
   "id": "cb13d2df",
   "metadata": {},
   "source": [
    "a) Extract the name along with deisignation (the position hold by the student that is put inside parenthesis.)"
   ]
  },
  {
   "cell_type": "code",
   "execution_count": 39,
   "id": "d16466ed",
   "metadata": {},
   "outputs": [
    {
     "name": "stdout",
     "output_type": "stream",
     "text": [
      "Sarvesh Patki (President)\n",
      "Khevna Parikh (Vice President)\n",
      "Pooja Aryamane  (Co-Director of Events)\n",
      "Aryan Jain (Co-Director of Events)\n",
      "Abhilash Anand (Co-Director of Events)\n",
      "Komal Sharma (Co-Director of Marketing & Engagement)\n",
      "Ridhika Agrawal (Co-Director of Marketing & Engagement)\n"
     ]
    }
   ],
   "source": [
    "# your code\n",
    "import re\n",
    "regex = re.compile(\"[A-Z]+[a-z ]+[A-Z][a-z ]+[(]?[A-Z][a-z]+\")\n",
    "student_groups.findall(regex)\n",
    "#regex = re.compile(\"([A-Z][a-z]+(?:\\s[A-Z][a-z]+))\\s\\((.)\\)\")"
   ]
  },
  {
   "cell_type": "markdown",
   "id": "56a113b6",
   "metadata": {},
   "source": [
    "#### Q3\n",
    "Design a regular expression to validate the syntax of ``if`` statements in Python. Partcularly, you should validate (i) indentation, (ii) allowed strings for variables. For indentation, either a tab or 4 spaces are valid but both cannot be mixed in the same code. Use lookahead assertion to ensure that statements begin with ``if``. You may have newline before ``if``."
   ]
  },
  {
   "cell_type": "code",
   "execution_count": null,
   "id": "ad37386b",
   "metadata": {},
   "outputs": [],
   "source": [
    "# code"
   ]
  },
  {
   "cell_type": "markdown",
   "id": "923afe0f",
   "metadata": {},
   "source": [
    "a) Apply the regular expression to validate the following examples."
   ]
  },
  {
   "cell_type": "code",
   "execution_count": 59,
   "id": "13f7e97c",
   "metadata": {},
   "outputs": [],
   "source": [
    "example1 =\"\"\"\n",
    "if b > a :\n",
    "    print(\"b is greater than a\")\n",
    "    break\n",
    "\"\"\"\n",
    "\n",
    "example2 =\"\"\"\n",
    "if b > a :\n",
    "    print(\"b is greater than a\")\n",
    "    break\n",
    "\"\"\"\n",
    "example3 =\"\"\"\n",
    "if b > a :\n",
    "    print(\"b is greater than a\")\n",
    "     break\n",
    "\"\"\"\n",
    "\n",
    "example4 =\"\"\"\n",
    "if b > a :\n",
    "    print(\"b is greater than a\")\n",
    "    8a = 9\n",
    "\"\"\"\n",
    "\n",
    "\n",
    "example5 =\"\"\"\n",
    "if b > a :\n",
    "    print(\"b is greater than a\")\n",
    "    a8 = 9\n",
    "\"\"\""
   ]
  },
  {
   "cell_type": "code",
   "execution_count": 61,
   "id": "337c526b",
   "metadata": {},
   "outputs": [
    {
     "name": "stdout",
     "output_type": "stream",
     "text": [
      "example1 is not valid\n"
     ]
    }
   ],
   "source": [
    "# for example1\n",
    "pattern = re.compile(r'^if\\s+\\w+\\s+[<,>,<=,>=,==]+\\s+\\w+\\s+:.*break$', re.DOTALL)\n",
    "\n",
    "if pattern.match(example1):\n",
    "    print(\"example1 is valid\")\n",
    "else:\n",
    "    print(\"example1 is not valid\")\n"
   ]
  },
  {
   "cell_type": "code",
   "execution_count": 64,
   "id": "6d8d413d",
   "metadata": {},
   "outputs": [
    {
     "name": "stdout",
     "output_type": "stream",
     "text": [
      "example2 is not valid\n"
     ]
    }
   ],
   "source": [
    "# for example2\n",
    "import re\n",
    "\n",
    "pattern = re.compile(r'^if\\s+\\w+\\s+[<,>,<=,>=,==]+\\s+\\w+\\s+:.*break$', re.DOTALL)\n",
    "\n",
    "if pattern.match(example2):\n",
    "    print(\"example2 is valid\")\n",
    "else:\n",
    "    print(\"example2 is not valid\")\n"
   ]
  },
  {
   "cell_type": "code",
   "execution_count": 65,
   "id": "4dfd4ba1",
   "metadata": {},
   "outputs": [
    {
     "name": "stdout",
     "output_type": "stream",
     "text": [
      "example3 is not valid\n"
     ]
    }
   ],
   "source": [
    "\n",
    "\n",
    "pattern = re.compile(r'^if\\s+\\w+\\s+[<,>,<=,>=,==]+\\s+\\w+\\s+:.*break$', re.DOTALL)\n",
    "\n",
    "if pattern.match(example3):\n",
    "    print(\"example3 is valid\")\n",
    "else:\n",
    "    print(\"example3 is not valid\")\n"
   ]
  },
  {
   "cell_type": "code",
   "execution_count": 66,
   "id": "5ab7b85f",
   "metadata": {},
   "outputs": [
    {
     "name": "stdout",
     "output_type": "stream",
     "text": [
      "example4 is valid\n"
     ]
    }
   ],
   "source": [
    "\n",
    "pattern = re.compile(r'^if\\s+\\w+\\s+[<,>,<=,>=,==]+\\s+\\w+\\s+:.*break$', re.DOTALL)\n",
    "\n",
    "if pattern.match(example4):\n",
    "    print(\"example4 is not valid\")\n",
    "else:\n",
    "    print(\"example4 is valid\")\n"
   ]
  },
  {
   "cell_type": "code",
   "execution_count": 67,
   "id": "315ba964",
   "metadata": {},
   "outputs": [
    {
     "name": "stdout",
     "output_type": "stream",
     "text": [
      "example5 is valid\n"
     ]
    }
   ],
   "source": [
    "import re\n",
    "\n",
    "pattern = re.compile(r'^if\\s+\\w+\\s+[<,>,<=,>=,==]+\\s+\\w+\\s+:.*break$', re.DOTALL)\n",
    "\n",
    "if pattern.match(example5):\n",
    "    print(\"example5 is not valid\")\n",
    "else:\n",
    "    print(\"example5 is valid\")\n"
   ]
  },
  {
   "cell_type": "markdown",
   "id": "b5eaf5fa",
   "metadata": {},
   "source": [
    "b) Which examples are valid?"
   ]
  },
  {
   "cell_type": "markdown",
   "id": "fd5232fa",
   "metadata": {},
   "source": [
    "#Your Answer: Example 4 and Example 5 are accurate among all "
   ]
  },
  {
   "cell_type": "code",
   "execution_count": null,
   "id": "ecc17c0e",
   "metadata": {},
   "outputs": [],
   "source": []
  },
  {
   "cell_type": "code",
   "execution_count": null,
   "id": "b3bed42f",
   "metadata": {},
   "outputs": [],
   "source": []
  }
 ],
 "metadata": {
  "kernelspec": {
   "display_name": "Python 3 (ipykernel)",
   "language": "python",
   "name": "python3"
  },
  "language_info": {
   "codemirror_mode": {
    "name": "ipython",
    "version": 3
   },
   "file_extension": ".py",
   "mimetype": "text/x-python",
   "name": "python",
   "nbconvert_exporter": "python",
   "pygments_lexer": "ipython3",
   "version": "3.9.7"
  }
 },
 "nbformat": 4,
 "nbformat_minor": 5
}
